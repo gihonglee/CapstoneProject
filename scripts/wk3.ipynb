{
 "cells": [
  {
   "cell_type": "markdown",
   "metadata": {},
   "source": [
    "This is Week3 python capstone project. We would like to explore and cluster the neighborhoods in Toronto"
   ]
  },
  {
   "cell_type": "code",
   "execution_count": 2,
   "metadata": {},
   "outputs": [],
   "source": [
    "### Tips for  Webscraping Updated Table in Week3 Peer Graded Assignment\n",
    "\n",
    "import numpy as np\n",
    "import pandas as pd\n",
    "import requests\n",
    "from bs4 import BeautifulSoup\n",
    "\n",
    "\n",
    "\n",
    "#**After retreiving the URL and creating a Beautiful soup object** \n",
    "\n",
    "url = \"https://en.wikipedia.org/wiki/List_of_neighbourhoods_in_Toronto\"\n",
    "\n",
    "#  **Firstly create a list** \n",
    "\n",
    "table_contents=[]\n",
    "\n",
    "#  **Later after finding the table and table data create a dictionary called cell having 3 keys PostalCode, Borough and Neighborhood.**\n",
    "\n",
    "\n",
    "\n",
    "# **As postal code contains upto 3 characters extract that using tablerow.p.text**\n",
    "\n",
    "#  **Next use split ,strip and replace functions for getting Borough and Neighborhood information.**.\n",
    "\n",
    "#  **Append to the list**  \n",
    "\n",
    "#  **Create a dataframe with list**\n",
    "\n",
    "# ## Sample code\n",
    "\n",
    "# table_contents=[]\n",
    "# table=soup.find('table')\n",
    "# for row in table.findAll('td'):\n",
    "#     cell = {}\n",
    "#     if row.span.text=='Not assigned':\n",
    "#         pass\n",
    "#     else:\n",
    "#         cell['PostalCode'] = row.p.text[:3]\n",
    "#         cell['Borough'] = (row.span.text).split('(')[0]\n",
    "#         cell['Neighborhood'] = (((((row.span.text).split('(')[1]).strip(')')).replace(' /',',')).replace(')',' ')).strip(' ')\n",
    "#         table_contents.append(cell)\n",
    "\n",
    "# # print(table_contents)\n",
    "# df=pd.DataFrame(table_contents)\n",
    "# df['Borough']=df['Borough'].replace({'Downtown TorontoStn A PO Boxes25 The Esplanade':'Downtown Toronto Stn A',\n",
    "#                                              'East TorontoBusiness reply mail Processing Centre969 Eastern':'East Toronto Business',\n",
    "#                                              'EtobicokeNorthwest':'Etobicoke Northwest','East YorkEast Toronto':'East York/East Toronto',\n",
    "#                                              'MississaugaCanada Post Gateway Processing Centre':'Mississauga'})"
   ]
  },
  {
   "cell_type": "code",
   "execution_count": null,
   "metadata": {},
   "outputs": [],
   "source": []
  }
 ],
 "metadata": {
  "kernelspec": {
   "display_name": "Python 3",
   "language": "python",
   "name": "python3"
  },
  "language_info": {
   "codemirror_mode": {
    "name": "ipython",
    "version": 3
   },
   "file_extension": ".py",
   "mimetype": "text/x-python",
   "name": "python",
   "nbconvert_exporter": "python",
   "pygments_lexer": "ipython3",
   "version": "3.7.4"
  }
 },
 "nbformat": 4,
 "nbformat_minor": 2
}
